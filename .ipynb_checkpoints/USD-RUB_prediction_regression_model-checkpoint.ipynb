{
 "cells": [
  {
   "cell_type": "code",
   "execution_count": null,
   "metadata": {},
   "outputs": [],
   "source": [
    "import numpy as np\n",
    "import pandas as pd\n",
    "import time\n",
    "import tensorflow as tf\n",
    "from tensorflow.keras.models import Sequential\n",
    "from tensorflow.keras.layers import Dense\n",
    "from tensorflow.keras.callbacks import TensorBoard\n",
    "from tensorflow.keras.callbacks import ModelCheckpoint\n",
    "import datetime as dt\n",
    "import pandas_datareader.data as web\n",
    "\n",
    "start = dt.datetime(2019, 6, 15)\n",
    "end = dt.datetime.now()"
   ]
  },
  {
   "cell_type": "markdown",
   "metadata": {},
   "source": [
    "## Acquiring data from MOEX, Finam, Yahoo finance  "
   ]
  },
  {
   "cell_type": "code",
   "execution_count": null,
   "metadata": {},
   "outputs": [],
   "source": [
    "df_old=pd.read_excel('ML_DF_Regression.xlsx')\n",
    "df_old.set_index('Date',inplace=True)\n"
   ]
  },
  {
   "cell_type": "code",
   "execution_count": null,
   "metadata": {},
   "outputs": [],
   "source": [
    "Brent = web.get_data_moex('BRQ9', start, end)\n",
    "Brent.drop(['BOARDID', 'SECID', 'OPENPOSITIONVALUE', 'OPEN', 'LOW', 'HIGH', 'VALUE',  'OPENPOSITION','VOLUME'], 1, inplace=True)\n",
    "Brent.index.name= 'Date'\n",
    "Brent.sort_index(inplace=True) \n",
    "Brent.rename(columns={'CLOSE':'Brent'}, inplace=True)\n",
    "\n",
    "EUR_USD = web.get_data_moex('EURUSD000TOM', start, end)\n",
    "EUR_USD=EUR_USD.loc[EUR_USD.BOARDID=='CETS']\n",
    "EUR_USD.drop(['BOARDID', 'SECID', 'SHORTNAME', 'VOLRUR', 'OPEN', 'LOW', 'HIGH', 'NUMTRADES',  'WAPRICE'], 1, inplace=True)\n",
    "EUR_USD.index.name= 'Date'\n",
    "EUR_USD.sort_index(inplace=True) \n",
    "EUR_USD.rename(columns={'CLOSE':'EUR_USD'}, inplace=True)\n",
    "\n",
    "USD_RUB_New = web.get_data_moex('USD000UTSTOM', start, end)\n",
    "USD_RUB_New=USD_RUB_New.loc[USD_RUB_New.BOARDID=='CETS']\n",
    "USD_RUB_New.drop(['BOARDID', 'SECID', 'SHORTNAME',  'OPEN', 'WAPRICE'], 1, inplace=True)\n",
    "USD_RUB_New.index.name= 'Date'\n",
    "USD_RUB_New.rename(columns={'CLOSE':'USD_RUB','VOLRUR':'VOL_USD','LOW':'USD_LOW', 'HIGH':'USD_HIGH', 'NUMTRADES':'USD_NUMTRADES'}, inplace=True)\n",
    "USD_RUB_New.sort_index(inplace=True) \n",
    "\n",
    "RGBITR_New= web.get_data_moex('RGBITR', start, end)\n",
    "RGBITR_New.drop(['BOARDID', 'SECID', 'SHORTNAME', 'NAME', 'OPEN', 'LOW', 'HIGH','CLOSE','DECIMALS', 'CURRENCYID',  'DIVISOR','VALUE','DURATION','CAPITALIZATION'], 1, inplace=True)\n",
    "RGBITR_New.index.name= 'Date'\n",
    "RGBITR_New.index=pd.to_datetime(RGBITR_New.index)\n",
    "RGBITR_New.rename(columns={'YIELD':'RGBITR_YIELD'}, inplace=True)\n",
    "RGBITR_New.sort_index(inplace=True) \n",
    "\n",
    "USD_Repo = web.get_data_moex('MOEXREPOUSD', start, end)\n",
    "USD_Repo.drop(['BOARDID', 'SECID', 'SHORTNAME', 'NAME', 'VALUE', 'OPEN', 'LOW', 'HIGH', 'DURATION', 'YIELD', 'DECIMALS', 'CAPITALIZATION', 'CURRENCYID', 'DIVISOR'], 1, inplace=True)\n",
    "USD_Repo.rename(columns={'CLOSE':'USD_Repo'}, inplace=True)\n",
    "USD_Repo.index.name= 'Date'\n",
    "USD_Repo.index=pd.to_datetime(USD_Repo.index)\n",
    "USD_Repo.sort_index(inplace=True) \n",
    "\n",
    "MOEXBC_New= web.get_data_moex('MOEXBC', start, end)\n",
    "MOEXBC_New.drop(['BOARDID', 'SECID', 'SHORTNAME', 'NAME', 'OPEN', 'LOW', 'HIGH','DECIMALS', 'CURRENCYID',  'DIVISOR','VALUE','DURATION','CAPITALIZATION','YIELD'], 1, inplace=True)\n",
    "MOEXBC_New.index.name= 'Date'\n",
    "MOEXBC_New.index=pd.to_datetime(MOEXBC_New.index)\n",
    "MOEXBC_New.rename(columns={'CLOSE':'MOEXBC'}, inplace=True)\n",
    "MOEXBC_New.sort_index(inplace=True)\n",
    "\n",
    "my_data=[ USD_RUB_New.USD_RUB, USD_RUB_New.VOL_USD, RGBITR_New.RGBITR_YIELD,EUR_USD.EUR_USD, USD_Repo.USD_Repo,MOEXBC_New.MOEXBC,Brent.Brent]\n",
    "my_data=pd.concat(my_data,axis=1)\n",
    "my_data.index=pd.to_datetime(my_data.index)\n",
    "my_data.tail(3)"
   ]
  },
  {
   "cell_type": "code",
   "execution_count": null,
   "metadata": {},
   "outputs": [],
   "source": [
    "tickers = ['RSX','^IRX','EEM']\n",
    "ETFs = pd.DataFrame()    \n",
    "\n",
    "for ticker in tickers:\n",
    "        ETF = web.get_data_yahoo(ticker, start, end)\n",
    "        ETF.rename(columns={'Adj Close': ticker}, inplace=True)\n",
    "        ETF.drop(['Open', 'High', 'Low', 'Close', 'Volume'], 1, inplace=True)\n",
    "        if ETFs.empty:\n",
    "            ETFs = ETF\n",
    "        else:\n",
    "            ETFs = ETFs.join(ETF, how='outer')\n",
    "ETFs.rename(columns={'RSX': 'Russia_ETF', '^IRX':'Treas_4M','EEM': 'Emerging_Markets'}, inplace=True)\n",
    "\n",
    "df_new=pd.merge(my_data,ETFs,on='Date')\n",
    "df_new.sort_index(inplace=True)\n"
   ]
  },
  {
   "cell_type": "code",
   "execution_count": null,
   "metadata": {},
   "outputs": [],
   "source": [
    "main_df = df_old.append(df_new,sort=False)\n",
    "main_df.index=pd.to_datetime(main_df.index)\n",
    "main_df.sort_index(inplace=True)\n",
    "main_df.drop_duplicates(subset='MOEXBC',inplace=True)\n",
    "main_df.dropna(inplace=True)\n",
    "main_df.tail(3)"
   ]
  },
  {
   "cell_type": "markdown",
   "metadata": {},
   "source": [
    "## Saving database to excel file"
   ]
  },
  {
   "cell_type": "code",
   "execution_count": null,
   "metadata": {},
   "outputs": [],
   "source": [
    "main_df.to_excel('ML_DF_Regression.xlsx')"
   ]
  },
  {
   "cell_type": "markdown",
   "metadata": {},
   "source": [
    "## Reading back and dropping redundant features"
   ]
  },
  {
   "cell_type": "code",
   "execution_count": null,
   "metadata": {},
   "outputs": [],
   "source": [
    "main_df=pd.read_excel('ML_DF_Regression.xlsx')\n",
    "main_df.drop(['VOL_USD','Emerging_Markets','MOEXBC'], 1,inplace=True)\n",
    "main_df=main_df.tail(601)\n",
    "main_df.reset_index(drop=True,inplace=True)\n",
    "main_df.tail(3)"
   ]
  },
  {
   "cell_type": "code",
   "execution_count": null,
   "metadata": {},
   "outputs": [],
   "source": [
    "main_df.drop('Date', 1,inplace=True)\n",
    "\n",
    "EPOCHS =350 # how many passes through our data\n",
    "BATCH_SIZE =5  # how many batches? Try smaller batch if you're getting OOM (out of memory) errors.\n",
    "\n",
    "# opt='adam'\n",
    "opt='rmsprop'\n",
    "\n",
    "NAME = f\"{BATCH_SIZE}-{opt}--{main_df.columns.tolist()}--{int(time.time())}\" \n",
    "\n",
    "\n",
    "tensorboard = TensorBoard(log_dir=\"logs/{}\".format(NAME))\n",
    "filepath = \"regression-{epoch:02d}-{val_mean_absolute_error:.3f}\"  # unique file name that will include the epoch and the validation acc for that epoch\n",
    "checkpoint = ModelCheckpoint(\"models/{}.model\".format(filepath, monitor='val_mean_absolute_error', verbose=1, save_best_only=True, mode='min')) # saves only the best ones\n"
   ]
  },
  {
   "cell_type": "markdown",
   "metadata": {},
   "source": [
    "## Train/test split"
   ]
  },
  {
   "cell_type": "code",
   "execution_count": null,
   "metadata": {},
   "outputs": [],
   "source": [
    "length = sorted(main_df.index.values)\n",
    "last_20pct = sorted(main_df.index.values)[-int(0.15*len(length))]  # get the last 15% \n",
    "\n",
    "test_db=main_df.loc[(main_df.index > 509) & (main_df.index < 600)]\n",
    "test_db.tail(3)"
   ]
  },
  {
   "cell_type": "code",
   "execution_count": null,
   "metadata": {},
   "outputs": [],
   "source": [
    "train_df = main_df[(main_df.index <= 509 )] \n",
    "train_df.tail(3)"
   ]
  },
  {
   "cell_type": "markdown",
   "metadata": {},
   "source": [
    "## Feature-wise normalization"
   ]
  },
  {
   "cell_type": "code",
   "execution_count": null,
   "metadata": {},
   "outputs": [],
   "source": [
    "train_targets = train_df.USD_RUB.values\n",
    "train_data=train_df.drop(\"USD_RUB\", 1).values\n",
    "\n",
    "test_targets = test_db.USD_RUB.values\n",
    "test_data=test_db.drop(\"USD_RUB\", 1).values\n",
    "\n",
    "mean = train_data.mean(axis=0)\n",
    "train_data -= mean\n",
    "std = train_data.std(axis=0)\n",
    "train_data /= std\n",
    "\n",
    "test_data -= mean\n",
    "test_data /= std\n"
   ]
  },
  {
   "cell_type": "markdown",
   "metadata": {},
   "source": [
    "## Building and training our network"
   ]
  },
  {
   "cell_type": "code",
   "execution_count": null,
   "metadata": {},
   "outputs": [],
   "source": [
    "from keras import models\n",
    "from keras import layers\n",
    "\n",
    "model = models.Sequential()\n",
    "model.add(layers.Dense(64, activation='relu',input_shape=(train_data.shape[1],)))\n",
    "model.add(layers.Dense(64, activation='relu'))\n",
    "model.add(layers.Dense(1))\n",
    "\n",
    "model.compile(optimizer=opt, loss='mse', metrics=['mae'])\n",
    "\n",
    "history = model.fit(\n",
    "    train_data, train_targets,\n",
    "    batch_size=BATCH_SIZE,\n",
    "    epochs=EPOCHS,\n",
    "    validation_data=(test_data, test_targets),\n",
    "    callbacks=[tensorboard, checkpoint],\n",
    "   )\n"
   ]
  },
  {
   "cell_type": "code",
   "execution_count": null,
   "metadata": {},
   "outputs": [],
   "source": []
  },
  {
   "cell_type": "code",
   "execution_count": null,
   "metadata": {},
   "outputs": [],
   "source": [
    "predict_df = main_df[(main_df.index == 600 )]\n",
    "predict_df"
   ]
  },
  {
   "cell_type": "code",
   "execution_count": null,
   "metadata": {},
   "outputs": [],
   "source": [
    "predict_data=predict_df.drop(\"USD_RUB\", 1).values\n",
    "prediction_target=predict_df.USD_RUB.values\n",
    "predict_data-= mean\n",
    "predict_data /= std\n"
   ]
  },
  {
   "cell_type": "code",
   "execution_count": null,
   "metadata": {},
   "outputs": [],
   "source": [
    "model = tf.keras.models.load_model(\"regression-334-0.645.model\")"
   ]
  },
  {
   "cell_type": "code",
   "execution_count": null,
   "metadata": {},
   "outputs": [],
   "source": [
    "prediction = model.predict(test_data[:1],batch_size=1)\n",
    "\n",
    "print(\"Real value =\", prediction_target)\n",
    "print(\"Prediction =\", prediction) "
   ]
  },
  {
   "cell_type": "code",
   "execution_count": null,
   "metadata": {},
   "outputs": [],
   "source": []
  }
 ],
 "metadata": {
  "kernelspec": {
   "display_name": "Python 3",
   "language": "python",
   "name": "python3"
  },
  "language_info": {
   "codemirror_mode": {
    "name": "ipython",
    "version": 3
   },
   "file_extension": ".py",
   "mimetype": "text/x-python",
   "name": "python",
   "nbconvert_exporter": "python",
   "pygments_lexer": "ipython3",
   "version": "3.7.1"
  }
 },
 "nbformat": 4,
 "nbformat_minor": 2
}
